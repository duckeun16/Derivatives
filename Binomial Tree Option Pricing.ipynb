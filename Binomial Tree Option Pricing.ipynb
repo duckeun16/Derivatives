{
 "cells": [
  {
   "cell_type": "code",
   "execution_count": 90,
   "id": "76f07480",
   "metadata": {},
   "outputs": [],
   "source": [
    "import numpy as np\n",
    "from py_vollib.black_scholes import black_scholes as bs\n",
    "import matplotlib.pyplot as plt"
   ]
  },
  {
   "cell_type": "markdown",
   "id": "90765463",
   "metadata": {},
   "source": [
    "from QuantPy's Binomial Tree Option Pricing videos \\\n",
    "https://www.youtube.com/@QuantPy"
   ]
  },
  {
   "cell_type": "markdown",
   "id": "4e365cb3",
   "metadata": {},
   "source": [
    "# European Option"
   ]
  },
  {
   "cell_type": "code",
   "execution_count": 132,
   "id": "7cbafbef",
   "metadata": {},
   "outputs": [],
   "source": [
    "# Parameters, European Option\n",
    "S0 = 100      # inital stock price\n",
    "K = 100       # strike price\n",
    "T = 1         # time to maturity in years\n",
    "r = 0.06      # annual risk-free rate\n",
    "N = 3         # number of time steps\n",
    "u = 1.1       # up-factor in binomial models\n",
    "d = 1/u       # down-factor, ensuring recombining tree\n",
    "# recombining tree: underlying asset move (u,d) = (d,u), 1.1*(1/1.1) = (1/1.1)*1.1 = 1\n",
    "opttype = 'C' # option type 'C' or 'P'"
   ]
  },
  {
   "cell_type": "code",
   "execution_count": 133,
   "id": "6b2f49a9",
   "metadata": {},
   "outputs": [
    {
     "name": "stdout",
     "output_type": "stream",
     "text": [
      "S_u = 110.00000000000001\n",
      "S_d = 90.9090909090909\n",
      "S_ud = 100.00000000000001\n",
      "S_du = 100.0\n",
      "u% = 10.000000000000009\n",
      "d% = -9.090909090909093\n"
     ]
    }
   ],
   "source": [
    "# recombining tree\n",
    "# u: +10%\n",
    "# d: -9.09%\n",
    "print(f'S_u = {S0 * u}')\n",
    "print(f'S_d = {S0 * d}')\n",
    "\n",
    "print(f'S_ud = {S0 * u*d}')\n",
    "print(f'S_du = {S0 * d*u}')\n",
    "\n",
    "print(f'u% = {(u-1)*100}')\n",
    "print(f'd% = {(d-1)*100}')"
   ]
  },
  {
   "cell_type": "code",
   "execution_count": 134,
   "id": "c6c745f9",
   "metadata": {},
   "outputs": [
    {
     "data": {
      "text/plain": [
       "0.3333333333333333"
      ]
     },
     "execution_count": 134,
     "metadata": {},
     "output_type": "execute_result"
    }
   ],
   "source": [
    "dt = T/N\n",
    "# single tree period in years\n",
    "dt"
   ]
  },
  {
   "cell_type": "code",
   "execution_count": 135,
   "id": "9bdc2db5",
   "metadata": {},
   "outputs": [
    {
     "data": {
      "text/plain": [
       "0.5820070191877681"
      ]
     },
     "execution_count": 135,
     "metadata": {},
     "output_type": "execute_result"
    }
   ],
   "source": [
    "# risk-neutral probability to discount option payoff\n",
    "pi = (np.exp(r*dt) - d) / (u - d)\n",
    "pi"
   ]
  },
  {
   "cell_type": "code",
   "execution_count": 136,
   "id": "f29af3ab",
   "metadata": {},
   "outputs": [],
   "source": [
    "S_T = np.zeros(N+1)\n",
    "# defined bottom of the tree at maturity, only consist of down moves\n",
    "S_T[0] = S0*(d**N)"
   ]
  },
  {
   "cell_type": "code",
   "execution_count": 137,
   "id": "a3079ed5",
   "metadata": {},
   "outputs": [
    {
     "data": {
      "text/plain": [
       "array([ 75.13148009,  90.90909091, 110.        , 133.1       ])"
      ]
     },
     "execution_count": 137,
     "metadata": {},
     "output_type": "execute_result"
    }
   ],
   "source": [
    "# defining nodes above the bottom node at maturity, using zig-zag move up\n",
    "for j in range(1, N+1):\n",
    "    S_T[j] = S_T[j-1]*u/d\n",
    "S_T"
   ]
  },
  {
   "cell_type": "code",
   "execution_count": 138,
   "id": "40c66d3f",
   "metadata": {},
   "outputs": [
    {
     "name": "stdout",
     "output_type": "stream",
     "text": [
      "call payoff at maturity [ 0.   0.  10.  33.1] \n",
      "\n",
      "time period 3, node 0\n",
      "  * up-node: 0.0\n",
      "  * down-node: 0.0\n",
      "  * base-node: 0.0\n",
      "time period 3, node 1\n",
      "  * up-node: 0.0\n",
      "  * down-node: 10.0\n",
      "  * base-node: 5.7048250806306955\n",
      "time period 3, node 2\n",
      "  * up-node: 10.0\n",
      "  * down-node: 33.10000000000002\n",
      "  * base-node: 22.980132669324473\n",
      "\n",
      "\n",
      "time period 2, node 0\n",
      "  * up-node: 0.0\n",
      "  * down-node: 5.7048250806306955\n",
      "  * base-node: 3.254502920059302\n",
      "time period 2, node 1\n",
      "  * up-node: 5.7048250806306955\n",
      "  * down-node: 22.980132669324473\n",
      "  * base-node: 15.447122776240315\n",
      "\n",
      "\n",
      "time period 1, node 0\n",
      "  * up-node: 3.254502920059302\n",
      "  * down-node: 15.447122776240315\n",
      "  * base-node: 10.145735799928817\n",
      "\n",
      "\n"
     ]
    },
    {
     "data": {
      "text/plain": [
       "array([10.1457358 , 15.44712278, 22.98013267, 33.1       ])"
      ]
     },
     "execution_count": 138,
     "metadata": {},
     "output_type": "execute_result"
    }
   ],
   "source": [
    "C_T = np.zeros(N+1)\n",
    "# apply call rule to get payoff at maturity\n",
    "for j in range(0,N+1):\n",
    "    C_T[j] = max(0, S_T[j]-K)\n",
    "\n",
    "print('call payoff at maturity', C_T, '\\n')\n",
    "for i in np.arange(N,0,-1):\n",
    "    for j in range(0,i):\n",
    "        print(f'time period {i}, node {j}')\n",
    "        print(f'  * up-node: {C_T[j]}')\n",
    "        print(f'  * down-node: {C_T[j+1]}')\n",
    "        C_T[j] = np.exp(-r*dt) * ( pi*C_T[j+1] + (1-pi)*C_T[j] )\n",
    "        print(f'  * base-node: {C_T[j]}')\n",
    "    print('\\n')\n",
    "C_T"
   ]
  },
  {
   "cell_type": "code",
   "execution_count": 139,
   "id": "03419c1b",
   "metadata": {},
   "outputs": [
    {
     "data": {
      "text/plain": [
       "array([ 75.13148009,  90.90909091, 110.        , 133.1       ])"
      ]
     },
     "execution_count": 139,
     "metadata": {},
     "output_type": "execute_result"
    }
   ],
   "source": [
    "# vectorized version\n",
    "S_T = S0 * d**(np.arange(N,-1,-1)) * u**(np.arange(0,N+1,1))\n",
    "S_T"
   ]
  },
  {
   "cell_type": "code",
   "execution_count": 140,
   "id": "0c343100",
   "metadata": {},
   "outputs": [
    {
     "name": "stdout",
     "output_type": "stream",
     "text": [
      "call payoff: [ 0.   0.  10.  33.1] \n",
      "\n",
      "time period 3\n",
      "  * up-nodes: [ 0.  10.  33.1]\n",
      "  * down-nodes: [ 0.  0. 10.]\n",
      "  * base-nodes: [ 0.          5.70482508 22.98013267]\n",
      "\n",
      "\n",
      "time period 2\n",
      "  * up-nodes: [ 5.70482508 22.98013267]\n",
      "  * down-nodes: [0.         5.70482508]\n",
      "  * base-nodes: [ 3.25450292 15.44712278]\n",
      "\n",
      "\n",
      "time period 1\n",
      "  * up-nodes: [15.44712278]\n",
      "  * down-nodes: [3.25450292]\n",
      "  * base-nodes: [10.1457358]\n",
      "\n",
      "\n"
     ]
    },
    {
     "data": {
      "text/plain": [
       "array([10.1457358])"
      ]
     },
     "execution_count": 140,
     "metadata": {},
     "output_type": "execute_result"
    }
   ],
   "source": [
    "# map call rule\n",
    "C_T = np.maximum(S_T - K, np.zeros(N+1))\n",
    "print(f'call payoff: {C_T} \\n')\n",
    "\n",
    "for i in np.arange(N,0,-1):\n",
    "    print(f'time period {i}')\n",
    "    print(f'  * up-nodes: {C_T[1:i+1]}')\n",
    "    print(f'  * down-nodes: {C_T[0:i]}')\n",
    "    C_T = np.exp(-r*dt) * ( pi*C_T[1:i+1] + (1-pi)*C_T[0:i] )\n",
    "    print(f'  * base-nodes: {C_T}')\n",
    "    print('\\n')\n",
    "C_T"
   ]
  },
  {
   "cell_type": "code",
   "execution_count": 141,
   "id": "2627dae2",
   "metadata": {},
   "outputs": [],
   "source": [
    "def binomial_tree_slow(S0,K,T,r,N,u,d,opttype='C',pi=None,method=None,dxu=None,dxd=None,pu=None,pd=None):\n",
    "    # precompute constants\n",
    "    # time steps for each single binomial tree\n",
    "    dt = T/N\n",
    "    # risk-neutral probability\n",
    "    if pi == None:\n",
    "        pi = (np.exp(r*dt) - d) / (u - d)\n",
    "    \n",
    "    # initialize asset prices at maturity - Time step N\n",
    "    # there will be number of time steps + 1 branches at the end of the binomial tree\n",
    "    S_T = np.zeros(N+1)\n",
    "    if method == None:    \n",
    "        # starting from the bottom only down moves tree, moving zig-zag up the node to compute maturity values\n",
    "        S_T[0] = S0*(d**N)\n",
    "        for j in range(1, N+1):\n",
    "            S_T[j] = S_T[j-1]*u/d\n",
    "    else:\n",
    "        # assumes log asset pricing\n",
    "        S_T[0] = S0*np.exp(N*dxd)\n",
    "        for j in range(1, N+1):\n",
    "            S_T[j] = S_T[j-1]*np.exp(dxu - dxd)\n",
    "        \n",
    "        \n",
    "    # initialize option values at maturity\n",
    "    V_T = np.zeros(N+1)\n",
    "    for j in range(0,N+1):\n",
    "        if opttype == 'C':\n",
    "            V_T[j] = max(0, S_T[j]-K)\n",
    "        elif opttype == 'P':\n",
    "            V_T[j] = max(0, K - S_T[j])\n",
    "\n",
    "    # step backwards through tree\n",
    "    # each time period i\n",
    "    for i in np.arange(N,0,-1):\n",
    "        # number of nodes at each time period\n",
    "        for j in range(0,i):\n",
    "            if method == None: \n",
    "                V_T[j] = np.exp(-r*dt) * ( pi*V_T[j+1] + (1-pi)*V_T[j] )\n",
    "            else:    \n",
    "                V_T[j] = np.exp(-r*dt) * ( pu*V_T[j+1] + pd*V_T[j] )\n",
    "\n",
    "    return V_T[0]"
   ]
  },
  {
   "cell_type": "code",
   "execution_count": 142,
   "id": "ccbe8b62",
   "metadata": {},
   "outputs": [],
   "source": [
    "# vectorized tree\n",
    "def binomial_tree_fast(S0,K,T,r,N,u,d,opttype='C',pi=None,method=None,dxu=None,dxd=None,pu=None,pd=None):\n",
    "    # precompute constants\n",
    "    # time steps for each single binomial tree\n",
    "    dt = T/N\n",
    "    # risk-neutral probability\n",
    "    if pi == None:\n",
    "        pi = (np.exp(r*dt) - d) / (u - d)\n",
    "    \n",
    "    if method == None:\n",
    "        # initialize asset prices at maturity - Time step N\n",
    "        S_T = S0 * d**(np.arange(N,-1,-1)) * u**(np.arange(0,N+1,1))\n",
    "    else:\n",
    "        S_T = S0*np.exp(np.arange(N,-1,-1)*dxd) * np.exp(np.arange(0,N+1,1)*dxu)\n",
    "    \n",
    "    if opttype == 'C':\n",
    "        # initialize option values at maturity\n",
    "        V_T = np.maximum(S_T - K, np.zeros(N+1))\n",
    "    elif opttype == 'P':\n",
    "        V_T = np.maximum(K - S_T, np.zeros(N+1))\n",
    "\n",
    "    # step backwards through tree\n",
    "    # each time period i\n",
    "    for i in np.arange(N,0,-1):\n",
    "        if method == None:\n",
    "            V_T = np.exp(-r*dt) * ( pi*V_T[1:i+1] + (1-pi)*V_T[0:i] )\n",
    "        else:\n",
    "            V_T = np.exp(-r*dt) * ( pu*V_T[1:i+1] + pd*V_T[0:i] )\n",
    "\n",
    "    return V_T[0]"
   ]
  },
  {
   "cell_type": "code",
   "execution_count": 143,
   "id": "32aba12d",
   "metadata": {
    "scrolled": true
   },
   "outputs": [
    {
     "data": {
      "text/plain": [
       "(10.145735799928817, 10.145735799928826)"
      ]
     },
     "execution_count": 143,
     "metadata": {},
     "output_type": "execute_result"
    }
   ],
   "source": [
    "binomial_tree_slow(S0,K,T,r,N,u,d,opttype='C'), \\\n",
    "binomial_tree_fast(S0,K,T,r,N,u,d,opttype='C')"
   ]
  },
  {
   "cell_type": "code",
   "execution_count": 144,
   "id": "c2ccabf3",
   "metadata": {},
   "outputs": [
    {
     "data": {
      "text/plain": [
       "(4.322189158353709, 4.322189158353709)"
      ]
     },
     "execution_count": 144,
     "metadata": {},
     "output_type": "execute_result"
    }
   ],
   "source": [
    "binomial_tree_slow(S0,K,T,r,N,u,d,opttype='P'), \\\n",
    "binomial_tree_fast(S0,K,T,r,N,u,d,opttype='P')"
   ]
  },
  {
   "cell_type": "markdown",
   "id": "9cede224",
   "metadata": {},
   "source": [
    "# American Option"
   ]
  },
  {
   "cell_type": "code",
   "execution_count": 145,
   "id": "f387ddb8",
   "metadata": {},
   "outputs": [],
   "source": [
    "# Parameters, European Option\n",
    "S0 = 100      # inital stock price\n",
    "K = 100       # strike price\n",
    "T = 1         # time to maturity in years\n",
    "r = 0.06      # annual risk-free rate\n",
    "N = 3         # number of time steps\n",
    "u = 1.1       # up-factor in binomial models\n",
    "d = 1/u       # down-factor, ensuring recombining tree\n",
    "# recombining tree: underlying asset move (u,d) = (d,u), 1.1*(1/1.1) = (1/1.1)*1.1 = 1\n",
    "opttype = 'P' # option type 'C' or 'P'"
   ]
  },
  {
   "cell_type": "code",
   "execution_count": 146,
   "id": "1336db98",
   "metadata": {},
   "outputs": [],
   "source": [
    "dt = T/N\n",
    "pi = (np.exp(r*dt) - d) / (u - d)"
   ]
  },
  {
   "cell_type": "code",
   "execution_count": 147,
   "id": "73444bec",
   "metadata": {},
   "outputs": [
    {
     "name": "stdout",
     "output_type": "stream",
     "text": [
      "underlying prices at maturity [ 75.13148009  90.90909091 110.         133.1       ]\n",
      "put payoff at maturity [24.86851991  9.09090909  0.          0.        ] \n",
      "\n",
      "time period 2, node 0\n",
      "  * underlying price: 82.64462809917354\n",
      "  * up-node: 24.868519909842234\n",
      "  * down-node: 9.090909090909093\n",
      "  * base-node, before applying put rule: 15.37523923150199\n",
      "  * base-node, after applying put rule: 17.355371900826455\n",
      "time period 2, node 1\n",
      "  * underlying price: 100.00000000000001\n",
      "  * up-node: 9.090909090909093\n",
      "  * down-node: 0.0\n",
      "  * base-node, before applying put rule: 3.724692411306235\n",
      "  * base-node, after applying put rule: 3.724692411306235\n",
      "time period 2, node 2\n",
      "  * underlying price: 121.00000000000001\n",
      "  * up-node: 0.0\n",
      "  * down-node: 0.0\n",
      "  * base-node, before applying put rule: 0.0\n",
      "  * base-node, after applying put rule: 0.0\n",
      "\n",
      "\n",
      "time period 1, node 0\n",
      "  * underlying price: 90.9090909090909\n",
      "  * up-node: 17.355371900826455\n",
      "  * down-node: 3.724692411306235\n",
      "  * base-node, before applying put rule: 9.235648290150095\n",
      "  * base-node, after applying put rule: 9.235648290150095\n",
      "time period 1, node 1\n",
      "  * underlying price: 110.00000000000001\n",
      "  * up-node: 3.724692411306235\n",
      "  * down-node: 0.0\n",
      "  * base-node, before applying put rule: 1.5260666914726477\n",
      "  * base-node, after applying put rule: 1.5260666914726477\n",
      "\n",
      "\n",
      "time period 0, node 0\n",
      "  * underlying price: 100.0\n",
      "  * up-node: 9.235648290150095\n",
      "  * down-node: 1.5260666914726477\n",
      "  * base-node, before applying put rule: 4.654588754602527\n",
      "  * base-node, after applying put rule: 4.654588754602527\n",
      "\n",
      "\n"
     ]
    },
    {
     "data": {
      "text/plain": [
       "array([4.65458875, 1.52606669, 0.        , 0.        ])"
      ]
     },
     "execution_count": 147,
     "metadata": {},
     "output_type": "execute_result"
    }
   ],
   "source": [
    "S_T = np.zeros(N+1)\n",
    "for j in range(0,N+1):\n",
    "    S_T[j] = S0 * (u**j) * (d**(N-j))\n",
    "# underlying prices at maturity just like European option\n",
    "\n",
    "# put payoff at maturity\n",
    "V_T = np.zeros(N+1)\n",
    "for j in range(0,N+1):\n",
    "    if opttype == 'P':\n",
    "        V_T[j] = max(0, K - S_T[j])\n",
    "\n",
    "print('underlying prices at maturity', S_T)\n",
    "print('put payoff at maturity', V_T, '\\n')\n",
    "\n",
    "for i in np.arange(N-1,-1,-1):\n",
    "    for j in range(0,i+1):\n",
    "        print(f'time period {i}, node {j}')\n",
    "        S_T = S0 * (u**j) * (d**(i-j))\n",
    "        print(f'  * underlying price: {S_T}')\n",
    "        print(f'  * up-node: {V_T[j]}')\n",
    "        print(f'  * down-node: {V_T[j+1]}')\n",
    "        V_T[j] = np.exp(-r*dt) * ( pi*V_T[j+1] + (1-pi)*V_T[j] )\n",
    "        print(f'  * base-node, before applying put rule: {V_T[j]}')\n",
    "        V_T[j] = max(V_T[j], K - S_T)\n",
    "        print(f'  * base-node, after applying put rule: {V_T[j]}')\n",
    "    print('\\n')\n",
    "V_T"
   ]
  },
  {
   "cell_type": "code",
   "execution_count": 148,
   "id": "6b652235",
   "metadata": {},
   "outputs": [
    {
     "name": "stdout",
     "output_type": "stream",
     "text": [
      "underlying prices at maturity [ 75.13148009  90.90909091 110.         133.1       ]\n",
      "put payoff at maturity [24.86851991  9.09090909  0.          0.        ] \n",
      "\n",
      "time period 2\n",
      "  * up-nodes: [9.09090909 0.         0.        ]\n",
      "  * down-nodes: [24.86851991  9.09090909  0.        ]\n",
      "  * base-nodes, before put rule: [15.37523923  3.72469241  0.        ]\n",
      "  * put rule payoffs: [ 17.3553719   0.        -21.       ]\n",
      "  * base-nodes, after put rule: [17.3553719   3.72469241  0.        ]\n",
      "time period 1\n",
      "  * up-nodes: [3.72469241 0.        ]\n",
      "  * down-nodes: [17.3553719   3.72469241]\n",
      "  * base-nodes, before put rule: [9.23564829 1.52606669]\n",
      "  * put rule payoffs: [  9.09090909 -10.        ]\n",
      "  * base-nodes, after put rule: [9.23564829 1.52606669]\n",
      "time period 0\n",
      "  * up-nodes: [1.52606669]\n",
      "  * down-nodes: [9.23564829]\n",
      "  * base-nodes, before put rule: [4.65458875]\n",
      "  * put rule payoffs: [0.]\n",
      "  * base-nodes, after put rule: [4.65458875]\n"
     ]
    }
   ],
   "source": [
    "# vectorized version\n",
    "S_T = S0 * d**(np.arange(N,-1,-1)) * u**(np.arange(0,N+1,1))\n",
    "V_T = np.maximum(0, K - S_T)\n",
    "print('underlying prices at maturity', S_T)\n",
    "print('put payoff at maturity', V_T, '\\n')\n",
    "\n",
    "for i in np.arange(N-1,-1,-1):\n",
    "    print(f'time period {i}')\n",
    "    S_T = S0 * d**(np.arange(i,-1,-1)) * u**(np.arange(0,i+1,1))\n",
    "    print(f'  * up-nodes: {V_T[1:i+2]}')\n",
    "    print(f'  * down-nodes: {V_T[0:i+1]}')\n",
    "    V_T[:i+1] = np.exp(-r*dt) * ( pi*V_T[1:i+2] + (1-pi)*V_T[0:i+1] )\n",
    "    print(f'  * base-nodes, before put rule: {V_T[:i+1]}')\n",
    "    V_T = V_T[:-1]\n",
    "    print(f'  * put rule payoffs: {K - S_T}')\n",
    "    V_T = np.maximum(V_T, K - S_T)\n",
    "    print(f'  * base-nodes, after put rule: {V_T}')"
   ]
  },
  {
   "cell_type": "code",
   "execution_count": 149,
   "id": "75db636a",
   "metadata": {},
   "outputs": [],
   "source": [
    "def american_slow_tree(S0,K,T,r,N,u,d,opttype='P',pi=None):\n",
    "    # precompute values\n",
    "    dt = T/N\n",
    "    if pi == None:\n",
    "        pi = (np.exp(r*dt) - d) / (u - d)\n",
    "    \n",
    "    # initialize stock prices at maturity\n",
    "    S_T = np.zeros(N+1)\n",
    "    for j in range(0,N+1):\n",
    "        S_T[j] = S0 * (u**j) * (d**(N-j))\n",
    "    \n",
    "    # option payoff\n",
    "    V_T = np.zeros(N+1)\n",
    "    for j in range(0,N+1):\n",
    "        if opttype == 'P':\n",
    "            V_T[j] = max(0, K - S_T[j])\n",
    "        elif opttype == 'C':\n",
    "            V_T[j] = max(0, S_T[j] - K)\n",
    "    \n",
    "    # backward recursion through the tree\n",
    "    for i in np.arange(N-1,-1,-1):\n",
    "        for j in range(0,i+1):\n",
    "            S_T = S0 * (u**j) * (d**(i-j))\n",
    "            V_T[j] = np.exp(-r*dt) * ( pi*V_T[j+1] + (1-pi)*V_T[j] )\n",
    "            if opttype == 'P':\n",
    "                V_T[j] = max(V_T[j], K - S_T)\n",
    "            elif opttype == 'C':\n",
    "                V_T[j] = max(V_T[j], S_T - K)\n",
    "                \n",
    "    return V_T[0]"
   ]
  },
  {
   "cell_type": "code",
   "execution_count": 150,
   "id": "1a699767",
   "metadata": {},
   "outputs": [],
   "source": [
    "# vectorized tree\n",
    "def american_fast_tree(S0,K,T,r,N,u,d,opttype='P',pi=None):\n",
    "    # precompute values\n",
    "    dt = T/N\n",
    "    if pi == None:\n",
    "        pi = (np.exp(r*dt) - d) / (u - d)\n",
    "    \n",
    "    # initialize stock prices at maturity\n",
    "    S_T = S0 * d**(np.arange(N,-1,-1)) * u**(np.arange(0,N+1,1))\n",
    "    \n",
    "    # option payoff\n",
    "    if opttype == 'P':\n",
    "        V_T = np.maximum(0, K - S_T)\n",
    "    elif opttype == 'C':\n",
    "        V_T = np.maximum(0, S_T - K)\n",
    "    \n",
    "    # backward recursion through the tree\n",
    "    for i in np.arange(N-1,-1,-1):\n",
    "        S_T = S0 * d**(np.arange(i,-1,-1)) * u**(np.arange(0,i+1,1))\n",
    "        V_T[:i+1] = np.exp(-r*dt) * ( pi*V_T[1:i+2] + (1-pi)*V_T[0:i+1] )\n",
    "        V_T = V_T[:-1]\n",
    "        if opttype == 'P':\n",
    "            V_T = np.maximum(V_T, K - S_T)\n",
    "        elif opttype == 'C':\n",
    "            V_T = np.maximum(V_T, S_T - K)\n",
    "                \n",
    "    return V_T[0]"
   ]
  },
  {
   "cell_type": "code",
   "execution_count": 151,
   "id": "40ae13f4",
   "metadata": {},
   "outputs": [
    {
     "data": {
      "text/plain": [
       "(4.654588754602527, 4.654588754602527)"
      ]
     },
     "execution_count": 151,
     "metadata": {},
     "output_type": "execute_result"
    }
   ],
   "source": [
    "american_slow_tree(S0,K,T,r,N,u,d,opttype='P'), \\\n",
    "american_fast_tree(S0,K,T,r,N,u,d,opttype='P')"
   ]
  },
  {
   "cell_type": "code",
   "execution_count": 152,
   "id": "e33a96e1",
   "metadata": {},
   "outputs": [
    {
     "data": {
      "text/plain": [
       "(10.145735799928826, 10.145735799928826)"
      ]
     },
     "execution_count": 152,
     "metadata": {},
     "output_type": "execute_result"
    }
   ],
   "source": [
    "american_slow_tree(S0,K,T,r,N,u,d,opttype='C'), \\\n",
    "american_fast_tree(S0,K,T,r,N,u,d,opttype='C')"
   ]
  },
  {
   "cell_type": "markdown",
   "id": "4b8bb6bb",
   "metadata": {},
   "source": [
    "# Binomial Tree Parameters"
   ]
  },
  {
   "cell_type": "code",
   "execution_count": 153,
   "id": "6890b4a3",
   "metadata": {},
   "outputs": [],
   "source": [
    "# Parameters, European Option\n",
    "S0 = 100      # inital stock price\n",
    "K = 110       # strike price\n",
    "T = 0.5       # time to maturity in years\n",
    "r = 0.06      # annual risk-free rate\n",
    "N = 100       # number of time steps\n",
    "sigma = 0.3   # Annualized stock price volatility\n",
    "# recombining tree: underlying asset move (u,d) = (d,u), 1.1*(1/1.1) = (1/1.1)*1.1 = 1\n",
    "opttype = 'C' # option type 'C' or 'P'"
   ]
  },
  {
   "cell_type": "code",
   "execution_count": 154,
   "id": "b9ac5bb0",
   "metadata": {},
   "outputs": [],
   "source": [
    "# Cox, Ross and Rubinstein (CRR) Method\n",
    "# = equal jump sizes up and down\n",
    "def CRR_method(T,N,sigma):\n",
    "    dt = T/N\n",
    "    u = np.exp(sigma*np.sqrt(dt))\n",
    "    # recombining tree\n",
    "    d = 1/u\n",
    "    return u,d"
   ]
  },
  {
   "cell_type": "code",
   "execution_count": 155,
   "id": "9efffd41",
   "metadata": {},
   "outputs": [
    {
     "name": "stdout",
     "output_type": "stream",
     "text": [
      "1.0214398028992784 0.9790102139759748\n"
     ]
    },
    {
     "data": {
      "text/plain": [
       "(5.77342630682585, 5.773426306825837)"
      ]
     },
     "execution_count": 155,
     "metadata": {},
     "output_type": "execute_result"
    }
   ],
   "source": [
    "u,d = CRR_method(T,N,sigma)\n",
    "print(u,d)\n",
    "binomial_tree_slow(S0,K,T,r,N,u,d,opttype='C'), \\\n",
    "binomial_tree_fast(S0,K,T,r,N,u,d,opttype='C')"
   ]
  },
  {
   "cell_type": "code",
   "execution_count": 156,
   "id": "e76b734e",
   "metadata": {},
   "outputs": [],
   "source": [
    "# Jarrow and Rudd (JR) Method\n",
    "# = equal risk-neutral probabilities\n",
    "def JR_method(T,N,r,sigma):\n",
    "    dt = T/N\n",
    "    nu = r - 0.5*sigma**2\n",
    "    u = np.exp(nu*dt + sigma*np.sqrt(dt))\n",
    "    d = np.exp(nu*dt - sigma*np.sqrt(dt))\n",
    "    pi = 0.5\n",
    "    return u,d,pi"
   ]
  },
  {
   "cell_type": "code",
   "execution_count": 157,
   "id": "05fc95bd",
   "metadata": {},
   "outputs": [
    {
     "name": "stdout",
     "output_type": "stream",
     "text": [
      "1.0215164137573671 0.979083642495558 0.5\n"
     ]
    },
    {
     "data": {
      "text/plain": [
       "(5.754089414567556, 5.754089414567574)"
      ]
     },
     "execution_count": 157,
     "metadata": {},
     "output_type": "execute_result"
    }
   ],
   "source": [
    "u,d,pi = JR_method(T,N,r,sigma)\n",
    "print(u,d,pi)\n",
    "binomial_tree_slow(S0,K,T,r,N,u,d,opttype='C',pi=pi), \\\n",
    "binomial_tree_fast(S0,K,T,r,N,u,d,opttype='C',pi=pi)"
   ]
  },
  {
   "cell_type": "code",
   "execution_count": 158,
   "id": "570ea077",
   "metadata": {},
   "outputs": [],
   "source": [
    "# Equal Probabilities (EQP) Method\n",
    "# = choose equal risk-neutral probabilities, under log asset pricing tree\n",
    "def EQP_method(T,N,r,sigma):\n",
    "    dt = T/N\n",
    "    nu = r - 0.5*sigma**2\n",
    "    dxu = 0.5*nu*dt + 0.5*np.sqrt(4*sigma**2 * dt - 3*nu**2 * dt**2)\n",
    "    dxd = 1.5*nu*dt - 0.5*np.sqrt(4*sigma**2 * dt - 3*nu**2 * dt**2)\n",
    "    pu = 0.5\n",
    "    pd = 1-pu\n",
    "    return dxu,dxd,pu,pd\n"
   ]
  },
  {
   "cell_type": "code",
   "execution_count": 159,
   "id": "d222882c",
   "metadata": {},
   "outputs": [
    {
     "name": "stdout",
     "output_type": "stream",
     "text": [
      "0.021250603998472263 -0.021100603998472262 0.5 0.5\n"
     ]
    },
    {
     "data": {
      "text/plain": [
       "(5.7365844788666545, 5.736584478866665)"
      ]
     },
     "execution_count": 159,
     "metadata": {},
     "output_type": "execute_result"
    }
   ],
   "source": [
    "dxu,dxd,pu,pd = EQP_method(T,N,r,sigma)\n",
    "print(dxu,dxd,pu,pd)\n",
    "binomial_tree_slow(S0,K,T,r,N,u,d,opttype='C',\n",
    "                   method='EQP',dxu=dxu,dxd=dxd,pu=pu,pd=pd), \\\n",
    "binomial_tree_fast(S0,K,T,r,N,u,d,opttype='C',\n",
    "                   method='EQP',dxu=dxu,dxd=dxd,pu=pu,pd=pd)"
   ]
  },
  {
   "cell_type": "code",
   "execution_count": 160,
   "id": "3f3c48b7",
   "metadata": {},
   "outputs": [],
   "source": [
    "# Trigeorgis (TRG) Method\n",
    "# = choose equal jump sizes, under log asset pricing tree\n",
    "def TRG_method(T,N,r,sigma):\n",
    "    dt = T/N\n",
    "    nu = r - 0.5*sigma**2\n",
    "    dxu = np.sqrt(sigma**2 * dt + nu**2 * dt**2)\n",
    "    dxd = -dxu\n",
    "    pu = 0.5 + 0.5*(nu*dt)/dxu\n",
    "    pd = 1-pu\n",
    "    return dxu,dxd,pu,pd"
   ]
  },
  {
   "cell_type": "code",
   "execution_count": 161,
   "id": "53d09464",
   "metadata": {
    "scrolled": true
   },
   "outputs": [
    {
     "name": "stdout",
     "output_type": "stream",
     "text": [
      "0.02121333601770358 -0.02121333601770358 0.5017677559045265 0.4982322440954735\n"
     ]
    },
    {
     "data": {
      "text/plain": [
       "(5.773359020180677, 5.77335902018071)"
      ]
     },
     "execution_count": 161,
     "metadata": {},
     "output_type": "execute_result"
    }
   ],
   "source": [
    "dxu,dxd,pu,pd = TRG_method(T,N,r,sigma)\n",
    "print(dxu,dxd,pu,pd)\n",
    "binomial_tree_slow(S0,K,T,r,N,u,d,opttype='C',\n",
    "                   method='TRG',dxu=dxu,dxd=dxd,pu=pu,pd=pd), \\\n",
    "binomial_tree_fast(S0,K,T,r,N,u,d,opttype='C',\n",
    "                   method='TRG',dxu=dxu,dxd=dxd,pu=pu,pd=pd)"
   ]
  },
  {
   "cell_type": "markdown",
   "id": "d4c6e230",
   "metadata": {},
   "source": [
    "### Greater Time Steps => continuous time, binomial pricing converges towards BSM pricing"
   ]
  },
  {
   "cell_type": "code",
   "execution_count": 162,
   "id": "0081dc3f",
   "metadata": {
    "scrolled": false
   },
   "outputs": [
    {
     "data": {
      "image/png": "[encoded data removed]",
      "text/plain": [
       "<Figure size 1500x600 with 1 Axes>"
      ]
     },
     "metadata": {},
     "output_type": "display_data"
    }
   ],
   "source": [
    "CRR, JR, EQP, TRG = [],[],[],[]\n",
    "\n",
    "periods = range(10,1000,10)\n",
    "for N in periods:\n",
    "    u,d = CRR_method(T,N,sigma)\n",
    "    CRR.append(binomial_tree_fast(S0,K,T,r,N,u,d,opttype='C'))\n",
    "    u,d,pi = JR_method(T,N,r,sigma)\n",
    "    JR.append(binomial_tree_fast(S0,K,T,r,N,u,d,opttype='C',pi=pi))\n",
    "    dxu,dxd,pu,pd = EQP_method(T,N,r,sigma)\n",
    "    EQP.append(binomial_tree_fast(S0,K,T,r,N,u,d,opttype='C',\n",
    "                   method='EQP',dxu=dxu,dxd=dxd,pu=pu,pd=pd))\n",
    "    dxu,dxd,pu,pd = TRG_method(T,N,r,sigma)\n",
    "    TRG.append(binomial_tree_fast(S0,K,T,r,N,u,d,opttype='C',\n",
    "                   method='TRG',dxu=dxu,dxd=dxd,pu=pu,pd=pd))\n",
    "\n",
    "BS = [bs('c', S0, K, T, r, sigma) for i in periods]\n",
    "\n",
    "plt.subplots(figsize=(15,6))\n",
    "plt.plot(periods, BS, label='BS', linewidth=3, c='black')\n",
    "plt.plot(periods, CRR, label='CRR')\n",
    "plt.plot(periods, JR, label='JR')\n",
    "plt.plot(periods, EQP, label='EQP')\n",
    "plt.plot(periods, TRG, label='TRG', linestyle='--')\n",
    "plt.legend();"
   ]
  }
 ],
 "metadata": {
  "kernelspec": {
   "display_name": "Python 3 (ipykernel)",
   "language": "python",
   "name": "python3"
  },
  "language_info": {
   "codemirror_mode": {
    "name": "ipython",
    "version": 3
   },
   "file_extension": ".py",
   "mimetype": "text/x-python",
   "name": "python",
   "nbconvert_exporter": "python",
   "pygments_lexer": "ipython3",
   "version": "3.10.9"
  }
 },
 "nbformat": 4,
 "nbformat_minor": 5
}
